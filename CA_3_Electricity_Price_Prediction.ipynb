{
 "cells": [
  {
   "cell_type": "markdown",
   "id": "82999b0e",
   "metadata": {},
   "source": [
    "# Assignment - 3"
   ]
  },
  {
   "cell_type": "markdown",
   "id": "684a7874",
   "metadata": {},
   "source": [
    "Author: Aditya Dey"
   ]
  },
  {
   "cell_type": "markdown",
   "id": "9e027f43",
   "metadata": {},
   "source": [
    "Kaggle ID: Adiityadey"
   ]
  },
  {
   "cell_type": "code",
   "execution_count": 11,
   "id": "96e31359",
   "metadata": {},
   "outputs": [],
   "source": [
    "import pandas as pd\n",
    "import numpy as np\n",
    "import matplotlib.pyplot as plt\n",
    "import seaborn as sns\n",
    "from sklearn.model_selection import train_test_split\n",
    "from sklearn.preprocessing import StandardScaler\n",
    "from sklearn.linear_model import Perceptron, LogisticRegression\n",
    "from sklearn.svm import SVC\n",
    "from sklearn.tree import DecisionTreeClassifier\n",
    "from sklearn.ensemble import RandomForestClassifier\n",
    "from sklearn.metrics import accuracy_score"
   ]
  },
  {
   "cell_type": "code",
   "execution_count": 2,
   "id": "0987a988",
   "metadata": {},
   "outputs": [
    {
     "name": "stdout",
     "output_type": "stream",
     "text": [
      "Shape of train data: (33994, 6)\n",
      "Shape of test data: (11328, 5)\n"
     ]
    }
   ],
   "source": [
    "raw_df = pd.read_csv(\"train.csv\").set_index(\"index\")\n",
    "test_df = pd.read_csv(\"test.csv\").set_index(\"index\")\n",
    "print(\"Shape of train data: {}\".format(raw_df.shape))\n",
    "print(\"Shape of test data: {}\".format(test_df.shape))"
   ]
  },
  {
   "cell_type": "markdown",
   "id": "a95d9788",
   "metadata": {},
   "source": [
    "### Data Exploration"
   ]
  },
  {
   "cell_type": "code",
   "execution_count": 3,
   "id": "e6d2fa07",
   "metadata": {},
   "outputs": [
    {
     "name": "stdout",
     "output_type": "stream",
     "text": [
      "<class 'pandas.core.frame.DataFrame'>\n",
      "Int64Index: 33994 entries, 0 to 33993\n",
      "Data columns (total 6 columns):\n",
      " #   Column     Non-Null Count  Dtype  \n",
      "---  ------     --------------  -----  \n",
      " 0   nswprice   33994 non-null  float64\n",
      " 1   nswdemand  33994 non-null  float64\n",
      " 2   vicprice   33994 non-null  float64\n",
      " 3   vicdemand  33994 non-null  float64\n",
      " 4   transfer   33994 non-null  float64\n",
      " 5   target     33994 non-null  int64  \n",
      "dtypes: float64(5), int64(1)\n",
      "memory usage: 1.8 MB\n"
     ]
    }
   ],
   "source": [
    "raw_df.info()"
   ]
  },
  {
   "cell_type": "code",
   "execution_count": 4,
   "id": "698ec24b",
   "metadata": {},
   "outputs": [
    {
     "data": {
      "text/html": [
       "<div>\n",
       "<style scoped>\n",
       "    .dataframe tbody tr th:only-of-type {\n",
       "        vertical-align: middle;\n",
       "    }\n",
       "\n",
       "    .dataframe tbody tr th {\n",
       "        vertical-align: top;\n",
       "    }\n",
       "\n",
       "    .dataframe thead th {\n",
       "        text-align: right;\n",
       "    }\n",
       "</style>\n",
       "<table border=\"1\" class=\"dataframe\">\n",
       "  <thead>\n",
       "    <tr style=\"text-align: right;\">\n",
       "      <th></th>\n",
       "      <th>nswprice</th>\n",
       "      <th>nswdemand</th>\n",
       "      <th>vicprice</th>\n",
       "      <th>vicdemand</th>\n",
       "      <th>transfer</th>\n",
       "      <th>target</th>\n",
       "    </tr>\n",
       "  </thead>\n",
       "  <tbody>\n",
       "    <tr>\n",
       "      <th>count</th>\n",
       "      <td>33994.000000</td>\n",
       "      <td>33994.000000</td>\n",
       "      <td>33994.000000</td>\n",
       "      <td>33994.000000</td>\n",
       "      <td>33994.000000</td>\n",
       "      <td>33994.000000</td>\n",
       "    </tr>\n",
       "    <tr>\n",
       "      <th>mean</th>\n",
       "      <td>0.057260</td>\n",
       "      <td>0.422004</td>\n",
       "      <td>0.003422</td>\n",
       "      <td>0.418636</td>\n",
       "      <td>0.496951</td>\n",
       "      <td>0.424604</td>\n",
       "    </tr>\n",
       "    <tr>\n",
       "      <th>std</th>\n",
       "      <td>0.052392</td>\n",
       "      <td>0.319866</td>\n",
       "      <td>0.010215</td>\n",
       "      <td>0.293709</td>\n",
       "      <td>0.288964</td>\n",
       "      <td>0.494290</td>\n",
       "    </tr>\n",
       "    <tr>\n",
       "      <th>min</th>\n",
       "      <td>-3.354880</td>\n",
       "      <td>-20.103552</td>\n",
       "      <td>-0.229600</td>\n",
       "      <td>-17.996896</td>\n",
       "      <td>-19.382464</td>\n",
       "      <td>0.000000</td>\n",
       "    </tr>\n",
       "    <tr>\n",
       "      <th>25%</th>\n",
       "      <td>0.035127</td>\n",
       "      <td>0.310213</td>\n",
       "      <td>0.002277</td>\n",
       "      <td>0.373123</td>\n",
       "      <td>0.414912</td>\n",
       "      <td>0.000000</td>\n",
       "    </tr>\n",
       "    <tr>\n",
       "      <th>50%</th>\n",
       "      <td>0.048667</td>\n",
       "      <td>0.444808</td>\n",
       "      <td>0.003467</td>\n",
       "      <td>0.422915</td>\n",
       "      <td>0.414912</td>\n",
       "      <td>0.000000</td>\n",
       "    </tr>\n",
       "    <tr>\n",
       "      <th>75%</th>\n",
       "      <td>0.074306</td>\n",
       "      <td>0.537303</td>\n",
       "      <td>0.003467</td>\n",
       "      <td>0.468863</td>\n",
       "      <td>0.605702</td>\n",
       "      <td>1.000000</td>\n",
       "    </tr>\n",
       "    <tr>\n",
       "      <th>max</th>\n",
       "      <td>0.979975</td>\n",
       "      <td>0.980809</td>\n",
       "      <td>1.000000</td>\n",
       "      <td>1.000000</td>\n",
       "      <td>1.000000</td>\n",
       "      <td>1.000000</td>\n",
       "    </tr>\n",
       "  </tbody>\n",
       "</table>\n",
       "</div>"
      ],
      "text/plain": [
       "           nswprice     nswdemand      vicprice     vicdemand      transfer  \\\n",
       "count  33994.000000  33994.000000  33994.000000  33994.000000  33994.000000   \n",
       "mean       0.057260      0.422004      0.003422      0.418636      0.496951   \n",
       "std        0.052392      0.319866      0.010215      0.293709      0.288964   \n",
       "min       -3.354880    -20.103552     -0.229600    -17.996896    -19.382464   \n",
       "25%        0.035127      0.310213      0.002277      0.373123      0.414912   \n",
       "50%        0.048667      0.444808      0.003467      0.422915      0.414912   \n",
       "75%        0.074306      0.537303      0.003467      0.468863      0.605702   \n",
       "max        0.979975      0.980809      1.000000      1.000000      1.000000   \n",
       "\n",
       "             target  \n",
       "count  33994.000000  \n",
       "mean       0.424604  \n",
       "std        0.494290  \n",
       "min        0.000000  \n",
       "25%        0.000000  \n",
       "50%        0.000000  \n",
       "75%        1.000000  \n",
       "max        1.000000  "
      ]
     },
     "execution_count": 4,
     "metadata": {},
     "output_type": "execute_result"
    }
   ],
   "source": [
    "raw_df.describe()"
   ]
  },
  {
   "cell_type": "code",
   "execution_count": 5,
   "id": "205fb204",
   "metadata": {},
   "outputs": [
    {
     "data": {
      "text/plain": [
       "nswprice     0\n",
       "nswdemand    0\n",
       "vicprice     0\n",
       "vicdemand    0\n",
       "transfer     0\n",
       "target       0\n",
       "dtype: int64"
      ]
     },
     "execution_count": 5,
     "metadata": {},
     "output_type": "execute_result"
    }
   ],
   "source": [
    "raw_df.isna().sum()"
   ]
  },
  {
   "cell_type": "code",
   "execution_count": 7,
   "id": "fc1f0c66",
   "metadata": {},
   "outputs": [
    {
     "data": {
      "text/plain": [
       "<AxesSubplot:>"
      ]
     },
     "execution_count": 7,
     "metadata": {},
     "output_type": "execute_result"
    },
    {
     "data": {
      "image/png": "[encoded data removed]",
      "text/plain": [
       "<Figure size 432x288 with 2 Axes>"
      ]
     },
     "metadata": {
      "needs_background": "light"
     },
     "output_type": "display_data"
    }
   ],
   "source": [
    "sns.heatmap(raw_df.corr(), annot=True)"
   ]
  },
  {
   "cell_type": "markdown",
   "id": "25df947e",
   "metadata": {},
   "source": [
    "There is a high correlation between nswdemand and vicdemand which is 0.91. We will need to proceed with further preliminary testing before deciding if we should drop either of the one columns for training model."
   ]
  },
  {
   "cell_type": "markdown",
   "id": "94e0d290",
   "metadata": {},
   "source": [
    "### Basic Model Performance Test"
   ]
  },
  {
   "cell_type": "markdown",
   "id": "4fb8419b",
   "metadata": {},
   "source": [
    "We will try to validate without much modification which learning model can create the best accuracy and then proceed to improve the model with highest accuracy."
   ]
  },
  {
   "cell_type": "code",
   "execution_count": 10,
   "id": "fafcd997",
   "metadata": {},
   "outputs": [],
   "source": [
    "# Standardisation\n",
    "df1 = raw_df.copy()\n",
    "X = df1.iloc[:, :-1].values \n",
    "y = df1.iloc[:, -1].values\n",
    "X_train, X_test, y_train, y_test = train_test_split(X, y, random_state=1, test_size = 0.3)\n",
    "scaler = StandardScaler()\n",
    "scaler.fit(X_train)\n",
    "X_train_std = scaler.transform(X_train)\n",
    "X_test_std = scaler.transform(X_test)"
   ]
  },
  {
   "cell_type": "code",
   "execution_count": 12,
   "id": "85e27721",
   "metadata": {},
   "outputs": [
    {
     "name": "stdout",
     "output_type": "stream",
     "text": [
      "Perceptron Accuracy Score : 0.5715266202568879\n",
      "Logistic Classifier Accuracy Score : 0.7529169526424159\n",
      "Support Vector Classifier Accuracy Score : 0.753897440925581\n",
      "DecisionTree Classifier Accuracy Score : 0.7382096283949406\n",
      "RandomForest Classifier Accuracy Score : 0.7992940484361212\n"
     ]
    }
   ],
   "source": [
    "#Perceptron\n",
    "ppn = Perceptron(eta0 = 0.001, max_iter= 1000, random_state = 1)\n",
    "ppn.fit(X_train_std, y_train)\n",
    "y_pred = ppn.predict(X_test_std)\n",
    "print(\"Perceptron Accuracy Score : {}\".format(accuracy_score(y_test,y_pred)))\n",
    "\n",
    "#LogisticRegression\n",
    "lr = LogisticRegression(random_state=1)\n",
    "lr.fit(X_train_std, y_train)\n",
    "y_pred = lr.predict(X_test_std)\n",
    "print(\"Logistic Classifier Accuracy Score : {}\".format(accuracy_score(y_test,y_pred)))\n",
    "\n",
    "#Support Vector Machines\n",
    "clf = SVC(C=1.0, kernel='linear', gamma=\"scale\", random_state=1)\n",
    "clf.fit(X_train_std,y_train)\n",
    "y_pred = clf.predict(X_test_std)\n",
    "print(\"Support Vector Classifier Accuracy Score : {}\".format(accuracy_score(y_test,y_pred)))\n",
    "\n",
    "#Decision Tree\n",
    "dtree = DecisionTreeClassifier(criterion = \"gini\", random_state=1)\n",
    "dtree.fit(X_train,y_train)\n",
    "y_pred = dtree.predict(X_test)\n",
    "print(\"DecisionTree Classifier Accuracy Score : {}\".format(accuracy_score(y_test,y_pred)))\n",
    "\n",
    "#Random Forest\n",
    "rf = RandomForestClassifier(n_estimators = 100, criterion = \"gini\", random_state=1)\n",
    "rf.fit(X_train, y_train)\n",
    "y_pred = rf.predict(X_test)\n",
    "print(\"RandomForest Classifier Accuracy Score : {}\".format(accuracy_score(y_test,y_pred)))"
   ]
  },
  {
   "cell_type": "markdown",
   "id": "5ab6628e",
   "metadata": {},
   "source": [
    "Above data shows that RandomForest is the better learning model for this dataset compared to others with accuracy lower than 78%. In the next few steps we will experiment with RandomForest to increase its accuracy further."
   ]
  },
  {
   "cell_type": "markdown",
   "id": "21666949",
   "metadata": {},
   "source": [
    "### Training Random Forest\n",
    "\n",
    "\\textbf{Goals:}\n",
    "\n",
    "- RandomForest are not sensitive to outliers but we will validate if performance can be increased on removing them.\n",
    "\n",
    "- Based on experimentations with Squareroot, Cuberoot, Log transformation of data, the final prediction values were weak. Standardization of the data instead of using normal data did improve the accuracy of classifier by ~0.1%. Hence we will use Standardized data to train. Standardized data will assist in faster training since it will create slighlty lesser branches.\n",
    "\n",
    "- Higher Estimators can lead to overfitting and very low Estimators may not provide high accuracy. Thus we will need to identify required number of estimators.\n",
    "\n",
    "\n",
    "\n"
   ]
  },
  {
   "cell_type": "markdown",
   "id": "656706f3",
   "metadata": {},
   "source": [
    "\\textbf{Outliers:}"
   ]
  },
  {
   "cell_type": "code",
   "execution_count": 107,
   "id": "2ec08a89",
   "metadata": {},
   "outputs": [
    {
     "name": "stdout",
     "output_type": "stream",
     "text": [
      "Outliers removed: 1021\n"
     ]
    }
   ],
   "source": [
    "#Qunatile below threshold values will be removed.\n",
    "Q1 = raw_df.quantile(q=0.15)\n",
    "Q3 = raw_df.quantile(q=0.85)\n",
    "#InterQuantileRange\n",
    "IQR = Q3 - Q1\n",
    "\n",
    "new_df = raw_df[~((raw_df <(Q1 - 1.5*IQR)) | (raw_df >(Q3 + 1.5*IQR))).any(axis=1)]\n",
    "print(\"Outliers removed: {}\".format(raw_df.shape[0] - new_df.shape[0]))"
   ]
  },
  {
   "cell_type": "markdown",
   "id": "ac68ad7b",
   "metadata": {},
   "source": [
    "\\textbf{Standardization:}"
   ]
  },
  {
   "cell_type": "code",
   "execution_count": 101,
   "id": "17aabd71",
   "metadata": {},
   "outputs": [],
   "source": [
    "df1 = new_df.copy()\n",
    "X = df1.iloc[:, :-1].values \n",
    "y = df1.iloc[:, -1].values\n",
    "X_train, X_test, y_train, y_test = train_test_split(X, y, random_state=1, test_size = 0.3)\n",
    "scaler = StandardScaler()\n",
    "scaler.fit(X_train)\n",
    "X_train_std = scaler.transform(X_train)\n",
    "X_test_std = scaler.transform(X_test)"
   ]
  },
  {
   "cell_type": "markdown",
   "id": "7ca06d84",
   "metadata": {},
   "source": [
    "\\textbf{Estimators:}"
   ]
  },
  {
   "cell_type": "code",
   "execution_count": 102,
   "id": "76564486",
   "metadata": {},
   "outputs": [],
   "source": [
    "# Low Estimators\n",
    "low_estimators = {}\n",
    "for x in range(5,31):\n",
    "    rf = RandomForestClassifier(n_estimators = x , criterion = \"entropy\", random_state=1) \n",
    "    rf.fit(X_train_std, y_train)\n",
    "    y_pred = rf.predict(X_test_std)\n",
    "    low_estimators[x] = accuracy_score(y_test,y_pred)\n",
    "    \n",
    "#High Estimators\n",
    "high_estimators = {}\n",
    "for x in range(100,501,100):\n",
    "    rf = RandomForestClassifier(n_estimators = x , criterion = \"entropy\", random_state=1) \n",
    "    rf.fit(X_train_std, y_train)\n",
    "    y_pred = rf.predict(X_test_std) \n",
    "    high_estimators[x] = accuracy_score(y_test,y_pred)"
   ]
  },
  {
   "cell_type": "code",
   "execution_count": 86,
   "id": "a3790f87",
   "metadata": {},
   "outputs": [
    {
     "name": "stdout",
     "output_type": "stream",
     "text": [
      "Low Estimator: 28, Accuracy Score: 0.7944896558486126\n",
      "High Estimator: 400, Accuracy Score: 0.8007647808608687\n"
     ]
    }
   ],
   "source": [
    "def get_key(val, dict1):\n",
    "    for key, value in dict1.items():\n",
    "         if val == value:\n",
    "             return key\n",
    "\n",
    "print(\"Low Estimator: {}, Accuracy Score: {}\".format(get_key(max(low_estimators.values()),\\\n",
    "                                                             low_estimators), max(low_estimators.values())))\n",
    "print(\"High Estimator: {}, Accuracy Score: {}\".format(get_key(max(high_estimators.values()),\\\n",
    "                                                             high_estimators), max(high_estimators.values())))\n",
    "        "
   ]
  },
  {
   "cell_type": "markdown",
   "id": "6cf85309",
   "metadata": {},
   "source": [
    "There is ~1% improvement in using high vs low estimator. High estimator can lead to overfitting but since the output improves performance we will use high estimator for final submission."
   ]
  },
  {
   "cell_type": "markdown",
   "id": "c66b7080",
   "metadata": {},
   "source": [
    "### Final Submission"
   ]
  },
  {
   "cell_type": "code",
   "execution_count": 111,
   "id": "86a29487",
   "metadata": {},
   "outputs": [],
   "source": [
    "#Train on the complete train.csv dataset.\n",
    "df1 = raw_df.copy()\n",
    "Q1 = raw_df.quantile(q=0.15)\n",
    "Q3 = raw_df.quantile(q=0.85)\n",
    "IQR = Q3 - Q1\n",
    "new_df = raw_df[~((raw_df <(Q1 - 1.5*IQR)) | (raw_df >(Q3 + 1.5*IQR))).any(axis=1)]\n",
    "\n",
    "\n",
    "X_train = df1.iloc[:, :-1].values \n",
    "y_train = df1.iloc[:, -1].values\n",
    "\n",
    "X_test = test_df.iloc[:,:].values\n",
    "\n",
    "scaler = StandardScaler()\n",
    "scaler.fit(X_train)\n",
    "X_train_std = scaler.transform(X_train)\n",
    "X_test_std = scaler.transform(X_test)\n",
    "\n",
    "\n",
    "rf = RandomForestClassifier(n_estimators = 400 , criterion = \"entropy\", random_state=1) \n",
    "rf.fit(X_train_std, y_train)\n",
    "y_pred = rf.predict(X_test_std)\n",
    "pred_df = pd.DataFrame(y_pred, columns=(['target']))\n",
    "pred_df = pred_df.reset_index()\n",
    "pred_df.to_csv(\"Submission.csv\", index = False)\n",
    "#Public Score is 0.80350"
   ]
  },
  {
   "cell_type": "markdown",
   "id": "2d32d159",
   "metadata": {},
   "source": [
    "### Conclusion\n",
    "\n",
    "- Standardization provides better results than other transformation but the accuracy is not a huge improvement.\n",
    "- Higher Estimators improve the accuracy yet not a huge improvement.\n",
    "- Removing outliers improves the accuracry yet not a huge improvement.\n",
    "- Performing above 3 goals  helped to reach ~2% better than earlier.\n"
   ]
  },
  {
   "cell_type": "code",
   "execution_count": null,
   "id": "c1abeedc",
   "metadata": {},
   "outputs": [],
   "source": []
  }
 ],
 "metadata": {
  "kernelspec": {
   "display_name": "Python 3 (ipykernel)",
   "language": "python",
   "name": "python3"
  },
  "language_info": {
   "codemirror_mode": {
    "name": "ipython",
    "version": 3
   },
   "file_extension": ".py",
   "mimetype": "text/x-python",
   "name": "python",
   "nbconvert_exporter": "python",
   "pygments_lexer": "ipython3",
   "version": "3.9.7"
  }
 },
 "nbformat": 4,
 "nbformat_minor": 5
}
