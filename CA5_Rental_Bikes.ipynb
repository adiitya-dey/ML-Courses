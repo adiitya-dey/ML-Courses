{
 "cells": [
  {
   "cell_type": "markdown",
   "metadata": {},
   "source": [
    "\\title{Assignment CA5 - Rental Bike} \\author{Aditya Dey} \\maketitle"
   ]
  },
  {
   "cell_type": "markdown",
   "metadata": {},
   "source": [
    "Author: Aditya Dey\n",
    "\n",
    "KaggleID: Adiitya.dey"
   ]
  },
  {
   "cell_type": "markdown",
   "metadata": {},
   "source": [
    "# Data Exploration"
   ]
  },
  {
   "cell_type": "code",
   "execution_count": 2,
   "metadata": {},
   "outputs": [],
   "source": [
    "import pandas as pd\n",
    "import numpy as np\n",
    "import matplotlib.pyplot as plt\n",
    "import seaborn as sns"
   ]
  },
  {
   "cell_type": "code",
   "execution_count": 3,
   "metadata": {},
   "outputs": [
    {
     "name": "stdout",
     "output_type": "stream",
     "text": [
      "(12165, 13)\n"
     ]
    },
    {
     "data": {
      "text/html": [
       "<div>\n",
       "<style scoped>\n",
       "    .dataframe tbody tr th:only-of-type {\n",
       "        vertical-align: middle;\n",
       "    }\n",
       "\n",
       "    .dataframe tbody tr th {\n",
       "        vertical-align: top;\n",
       "    }\n",
       "\n",
       "    .dataframe thead th {\n",
       "        text-align: right;\n",
       "    }\n",
       "</style>\n",
       "<table border=\"1\" class=\"dataframe\">\n",
       "  <thead>\n",
       "    <tr style=\"text-align: right;\">\n",
       "      <th></th>\n",
       "      <th>Season</th>\n",
       "      <th>Year</th>\n",
       "      <th>Month</th>\n",
       "      <th>Hour</th>\n",
       "      <th>Holiday</th>\n",
       "      <th>Weekday</th>\n",
       "      <th>Working day</th>\n",
       "      <th>Weather situation</th>\n",
       "      <th>Temperature (normalized)</th>\n",
       "      <th>Feels-like temperature (normalized)</th>\n",
       "      <th>Humidity (normalized)</th>\n",
       "      <th>Windspeed</th>\n",
       "      <th>Rental bikes count</th>\n",
       "    </tr>\n",
       "  </thead>\n",
       "  <tbody>\n",
       "    <tr>\n",
       "      <th>0</th>\n",
       "      <td>Summer</td>\n",
       "      <td>1</td>\n",
       "      <td>6</td>\n",
       "      <td>18</td>\n",
       "      <td>0</td>\n",
       "      <td>1</td>\n",
       "      <td>1</td>\n",
       "      <td>Clear or partly cloudy</td>\n",
       "      <td>0.76</td>\n",
       "      <td>0.6667</td>\n",
       "      <td>0.27</td>\n",
       "      <td>0.4478</td>\n",
       "      <td>791</td>\n",
       "    </tr>\n",
       "    <tr>\n",
       "      <th>1</th>\n",
       "      <td>Fall</td>\n",
       "      <td>1</td>\n",
       "      <td>10</td>\n",
       "      <td>11</td>\n",
       "      <td>0</td>\n",
       "      <td>3</td>\n",
       "      <td>1</td>\n",
       "      <td>Misty and/or cloudy</td>\n",
       "      <td>0.36</td>\n",
       "      <td>0.3485</td>\n",
       "      <td>0.66</td>\n",
       "      <td>0.2239</td>\n",
       "      <td>189</td>\n",
       "    </tr>\n",
       "    <tr>\n",
       "      <th>2</th>\n",
       "      <td>Spring</td>\n",
       "      <td>0</td>\n",
       "      <td>6</td>\n",
       "      <td>22</td>\n",
       "      <td>0</td>\n",
       "      <td>6</td>\n",
       "      <td>0</td>\n",
       "      <td>Clear or partly cloudy</td>\n",
       "      <td>0.64</td>\n",
       "      <td>0.6212</td>\n",
       "      <td>0.57</td>\n",
       "      <td>0.2239</td>\n",
       "      <td>190</td>\n",
       "    </tr>\n",
       "  </tbody>\n",
       "</table>\n",
       "</div>"
      ],
      "text/plain": [
       "   Season Year Month Hour Holiday Weekday Working day       Weather situation  \\\n",
       "0  Summer    1     6   18       0       1           1  Clear or partly cloudy   \n",
       "1    Fall    1    10   11       0       3           1     Misty and/or cloudy   \n",
       "2  Spring    0     6   22       0       6           0  Clear or partly cloudy   \n",
       "\n",
       "  Temperature (normalized) Feels-like temperature (normalized)  \\\n",
       "0                     0.76                              0.6667   \n",
       "1                     0.36                              0.3485   \n",
       "2                     0.64                              0.6212   \n",
       "\n",
       "  Humidity (normalized) Windspeed  Rental bikes count  \n",
       "0                  0.27    0.4478                 791  \n",
       "1                  0.66    0.2239                 189  \n",
       "2                  0.57    0.2239                 190  "
      ]
     },
     "execution_count": 3,
     "metadata": {},
     "output_type": "execute_result"
    }
   ],
   "source": [
    "# Importing Dataset\n",
    "raw = pd.read_pickle('train.pkl')\n",
    "test = pd.read_pickle('test.pkl')\n",
    "print(raw.shape)\n",
    "raw.head(3)"
   ]
  },
  {
   "cell_type": "code",
   "execution_count": 4,
   "metadata": {},
   "outputs": [],
   "source": [
    "# Replacing \"missing\" word with np.nan \n",
    "df1 = raw.replace(to_replace =\"missing\", value = np.nan).copy(deep='True')\n",
    "\n",
    "# Dropping all np.nan rows since  they are minimal and do not seem to impact predictions.\n",
    "df1.dropna(inplace=True)"
   ]
  },
  {
   "cell_type": "code",
   "execution_count": 5,
   "metadata": {},
   "outputs": [],
   "source": [
    "# Converting objects to numerical data for training dataset\n",
    "df_Season = pd.get_dummies(df1['Season'], prefix='Season')\n",
    "df_Weather = pd.get_dummies(df1['Weather situation'], prefix='Weather')\n",
    "df2 = pd.concat([df1, df_Season, df_Weather], axis=1)\n",
    "df2.drop([\"Season\", \"Weather situation\"],axis=1, inplace=True)\n",
    "df2.columns\n",
    "\n",
    "df = df2[['Year', 'Month', 'Hour', 'Holiday', 'Weekday', 'Working day',\n",
    "       'Temperature (normalized)', 'Feels-like temperature (normalized)',\n",
    "       'Humidity (normalized)', 'Windspeed',\n",
    "       'Season_Fall', 'Season_Spring', 'Season_Summer', 'Season_Winter',\n",
    "       'Weather_Clear or partly cloudy',\n",
    "       'Weather_Heavy rain, heavy snow or thunderstorm',\n",
    "       'Weather_Light snow or light rain', 'Weather_Misty and/or cloudy', 'Rental bikes count']]"
   ]
  },
  {
   "cell_type": "code",
   "execution_count": 6,
   "metadata": {},
   "outputs": [
    {
     "data": {
      "text/plain": [
       "Index(['Year', 'Month', 'Hour', 'Holiday', 'Weekday', 'Working day',\n",
       "       'Temperature (normalized)', 'Feels-like temperature (normalized)',\n",
       "       'Humidity (normalized)', 'Windspeed', 'Season_Fall', 'Season_Spring',\n",
       "       'Season_Summer', 'Season_Winter', 'Weather_Clear or partly cloudy',\n",
       "       'Weather_Heavy rain, heavy snow or thunderstorm',\n",
       "       'Weather_Light snow or light rain', 'Weather_Misty and/or cloudy'],\n",
       "      dtype='object')"
      ]
     },
     "execution_count": 6,
     "metadata": {},
     "output_type": "execute_result"
    }
   ],
   "source": [
    "# Converting objects to numerical data for test dataset\n",
    "tst_Season = pd.get_dummies(test['Season'], prefix='Season')\n",
    "tst_Weather = pd.get_dummies(test['Weather situation'], prefix='Weather')\n",
    "tst = pd.concat([test, tst_Season, tst_Weather], axis=1)\n",
    "tst.drop([\"Season\", \"Weather situation\"],axis=1, inplace=True)\n",
    "tst.columns"
   ]
  },
  {
   "cell_type": "code",
   "execution_count": 7,
   "metadata": {},
   "outputs": [
    {
     "data": {
      "text/plain": [
       "<AxesSubplot:>"
      ]
     },
     "execution_count": 7,
     "metadata": {},
     "output_type": "execute_result"
    },
    {
     "data": {
      "image/png": "[encoded data removed]",
      "text/plain": [
       "<Figure size 360x360 with 2 Axes>"
      ]
     },
     "metadata": {
      "needs_background": "light"
     },
     "output_type": "display_data"
    }
   ],
   "source": [
    "plt.figure(figsize=(5,5))\n",
    "sns.heatmap(df.corr()> 0.90, annot=True)"
   ]
  },
  {
   "cell_type": "markdown",
   "metadata": {},
   "source": [
    "There is only one high correlation between \"Feels-like Temperature\" and \"Temperature\". Further testing will provide more results on dropping which of the columns may give higher accuracy."
   ]
  },
  {
   "cell_type": "code",
   "execution_count": 8,
   "metadata": {},
   "outputs": [
    {
     "name": "stderr",
     "output_type": "stream",
     "text": [
      "/tmp/ipykernel_76419/45084172.py:1: SettingWithCopyWarning: \n",
      "A value is trying to be set on a copy of a slice from a DataFrame\n",
      "\n",
      "See the caveats in the documentation: https://pandas.pydata.org/pandas-docs/stable/user_guide/indexing.html#returning-a-view-versus-a-copy\n",
      "  df.drop([\"Feels-like temperature (normalized)\"],axis=1, inplace=True)\n"
     ]
    }
   ],
   "source": [
    "df.drop([\"Feels-like temperature (normalized)\"],axis=1, inplace=True)\n",
    "tst.drop([\"Feels-like temperature (normalized)\"],axis=1, inplace=True)\n"
   ]
  },
  {
   "cell_type": "markdown",
   "metadata": {},
   "source": [
    "# Creating Model"
   ]
  },
  {
   "cell_type": "markdown",
   "metadata": {},
   "source": [
    "## Train test split"
   ]
  },
  {
   "cell_type": "code",
   "execution_count": 9,
   "metadata": {},
   "outputs": [],
   "source": [
    "from sklearn.model_selection import train_test_split\n",
    "\n",
    "X = df.iloc[:,:-1].values\n",
    "y = df.iloc[:,-1].values"
   ]
  },
  {
   "cell_type": "code",
   "execution_count": 10,
   "metadata": {},
   "outputs": [],
   "source": [
    "X_train, X_test, y_train, y_test = train_test_split(X,y, test_size=0.3, random_state=1)"
   ]
  },
  {
   "cell_type": "code",
   "execution_count": 11,
   "metadata": {},
   "outputs": [],
   "source": [
    "X_tst = tst.iloc[:,:].values"
   ]
  },
  {
   "cell_type": "markdown",
   "metadata": {},
   "source": [
    "## Modelling"
   ]
  },
  {
   "cell_type": "code",
   "execution_count": 12,
   "metadata": {},
   "outputs": [],
   "source": [
    "from sklearn.pipeline import make_pipeline\n",
    "from sklearn.preprocessing import StandardScaler\n",
    "from sklearn.metrics import mean_squared_error, r2_score\n",
    "from sklearn.linear_model import RANSACRegressor"
   ]
  },
  {
   "cell_type": "markdown",
   "metadata": {},
   "source": [
    "### RANSAC Regression"
   ]
  },
  {
   "cell_type": "code",
   "execution_count": 13,
   "metadata": {},
   "outputs": [
    {
     "name": "stdout",
     "output_type": "stream",
     "text": [
      "MSE Train: 4.152120411874473e+25\n",
      "MSE Test: 22465.83013843706\n",
      "R2 Score Train: -1.241911712111804e+21\n",
      "R2 Score Test: 0.29606163893138704\n"
     ]
    }
   ],
   "source": [
    "pipe_RAN = make_pipeline(StandardScaler(),\n",
    "                         RANSACRegressor(random_state=1,\n",
    "                                         min_samples=50,\n",
    "                                         max_trials= 100,\n",
    "                                        loss=\"absolute_error\",\n",
    "                                        residual_threshold=5.0))\n",
    "pipe_RAN.fit(X_train, y_train)\n",
    "y_train_pred = pipe_RAN.predict(X_train)\n",
    "y_test_pred = pipe_RAN.predict(X_test)\n",
    "\n",
    "print(\"MSE Train: {}\".format(mean_squared_error(y_train, y_train_pred)))\n",
    "print(\"MSE Test: {}\".format(mean_squared_error(y_test, y_test_pred)))\n",
    "\n",
    "print(\"R2 Score Train: {}\".format(r2_score(y_train, y_train_pred)))\n",
    "print(\"R2 Score Test: {}\".format(r2_score(y_test, y_test_pred)))\n"
   ]
  },
  {
   "cell_type": "markdown",
   "metadata": {},
   "source": [
    "- Mean squared error for train is too low compared to test which means the model is overfit.\n",
    "- R2 score for train is negative representing chosen model fits worst than along horizontal line.\n"
   ]
  },
  {
   "cell_type": "markdown",
   "metadata": {},
   "source": [
    "### RandomForest Regression "
   ]
  },
  {
   "cell_type": "code",
   "execution_count": 14,
   "metadata": {},
   "outputs": [],
   "source": [
    "from sklearn.ensemble import RandomForestRegressor"
   ]
  },
  {
   "cell_type": "code",
   "execution_count": 15,
   "metadata": {},
   "outputs": [
    {
     "name": "stdout",
     "output_type": "stream",
     "text": [
      "MSE Train: 319.66704701737336\n",
      "MSE Test: 1874.168808163265\n",
      "R2 Score Train: 0.9904386624113378\n",
      "R2 Score Train: 0.9412752918073942\n"
     ]
    }
   ],
   "source": [
    "pipe_rf = make_pipeline(StandardScaler(),\n",
    "                        RandomForestRegressor(n_estimators=25,\n",
    "                                              criterion='squared_error',\n",
    "                                              random_state=1))\n",
    "pipe_rf.fit(X_train,y_train)\n",
    "y_train_pred = pipe_rf.predict(X_train)\n",
    "y_test_pred = pipe_rf.predict(X_test)\n",
    "\n",
    "print(\"MSE Train: {}\".format(mean_squared_error(y_train, y_train_pred)))\n",
    "print(\"MSE Test: {}\".format(mean_squared_error(y_test, y_test_pred)))\n",
    "\n",
    "print(\"R2 Score Train: {}\".format(r2_score(y_train, y_train_pred)))\n",
    "print(\"R2 Score Train: {}\".format(r2_score(y_test, y_test_pred)))"
   ]
  },
  {
   "cell_type": "markdown",
   "metadata": {},
   "source": [
    "- Mean squared error of train is too low compared to test representing overfitting of data.\n",
    "- R2 Score is very close to 1 for both train and test representing that model fits very closely."
   ]
  },
  {
   "cell_type": "markdown",
   "metadata": {},
   "source": [
    "### Elasticnet "
   ]
  },
  {
   "cell_type": "code",
   "execution_count": 16,
   "metadata": {},
   "outputs": [
    {
     "name": "stdout",
     "output_type": "stream",
     "text": [
      "MSE Train: 20027.223427446304\n",
      "MSE Test: 19247.088644635223\n",
      "R2 Score Train: 0.4009797195549779\n",
      "R2 Score Train: 0.3969168309224378\n"
     ]
    }
   ],
   "source": [
    "from sklearn.linear_model import ElasticNet\n",
    "\n",
    "pipe_en = make_pipeline(StandardScaler(),\n",
    "                       ElasticNet(alpha=1.0, l1_ratio=1.0, random_state=1))\n",
    "\n",
    "pipe_en.fit(X_train,y_train)\n",
    "y_train_pred = pipe_en.predict(X_train)\n",
    "y_test_pred = pipe_en.predict(X_test)\n",
    "\n",
    "print(\"MSE Train: {}\".format(mean_squared_error(y_train, y_train_pred)))\n",
    "print(\"MSE Test: {}\".format(mean_squared_error(y_test, y_test_pred)))\n",
    "\n",
    "print(\"R2 Score Train: {}\".format(r2_score(y_train, y_train_pred)))\n",
    "print(\"R2 Score Train: {}\".format(r2_score(y_test, y_test_pred)))"
   ]
  },
  {
   "cell_type": "markdown",
   "metadata": {},
   "source": [
    "- High Mean Square Error represents model fit is worst."
   ]
  },
  {
   "cell_type": "markdown",
   "metadata": {},
   "source": [
    "---\n",
    "At a quick glance with minimal parameters it clearly shows RandomForestRegressor surpasses ElasticNet and RANSAC with better r2_score. Therefore we will perform hyperparameter tuning with RandomForest."
   ]
  },
  {
   "cell_type": "markdown",
   "metadata": {},
   "source": [
    "### Hyperparamter Tuning"
   ]
  },
  {
   "cell_type": "code",
   "execution_count": 16,
   "metadata": {},
   "outputs": [
    {
     "name": "stdout",
     "output_type": "stream",
     "text": [
      "Best Score: 0.9363646861446941\n",
      "Best Params: {'randomforestregressor__max_depth': None, 'randomforestregressor__n_estimators': 1000}\n"
     ]
    }
   ],
   "source": [
    "from sklearn.model_selection import GridSearchCV\n",
    "\n",
    "pipe_rf = make_pipeline(StandardScaler(),\n",
    "                        RandomForestRegressor(criterion='squared_error',\n",
    "                                              random_state=1))\n",
    "\n",
    "param_grid = [{'randomforestregressor__n_estimators': [50,100,500,1000],\n",
    "              'randomforestregressor__max_depth':[None,20,40,50],\n",
    "              }]\n",
    "\n",
    "gs_rf = GridSearchCV(estimator=pipe_rf, cv=5, param_grid=param_grid)\n",
    "\n",
    "gs_rf.fit(X_train,y_train)\n",
    "print(\"Best Score: {}\".format(gs_rf.best_score_))\n",
    "print(\"Best Params: {}\".format(gs_rf.best_params_))"
   ]
  },
  {
   "cell_type": "markdown",
   "metadata": {},
   "source": [
    "- Even though high number of estimators can increase accuracy but they also can increase overfitting.\n",
    "- Currently for this dataset, it does not show any overfitting, so we will use 1000 estimators for final submission."
   ]
  },
  {
   "cell_type": "code",
   "execution_count": 22,
   "metadata": {},
   "outputs": [
    {
     "data": {
      "text/html": [
       "<div>\n",
       "<style scoped>\n",
       "    .dataframe tbody tr th:only-of-type {\n",
       "        vertical-align: middle;\n",
       "    }\n",
       "\n",
       "    .dataframe tbody tr th {\n",
       "        vertical-align: top;\n",
       "    }\n",
       "\n",
       "    .dataframe thead th {\n",
       "        text-align: right;\n",
       "    }\n",
       "</style>\n",
       "<table border=\"1\" class=\"dataframe\">\n",
       "  <thead>\n",
       "    <tr style=\"text-align: right;\">\n",
       "      <th></th>\n",
       "      <th>bins</th>\n",
       "      <th>Correct Count</th>\n",
       "      <th>Accuracy</th>\n",
       "    </tr>\n",
       "  </thead>\n",
       "  <tbody>\n",
       "    <tr>\n",
       "      <th>0</th>\n",
       "      <td>2</td>\n",
       "      <td>2277</td>\n",
       "      <td>0.968</td>\n",
       "    </tr>\n",
       "    <tr>\n",
       "      <th>1</th>\n",
       "      <td>3</td>\n",
       "      <td>2173</td>\n",
       "      <td>0.924</td>\n",
       "    </tr>\n",
       "    <tr>\n",
       "      <th>2</th>\n",
       "      <td>4</td>\n",
       "      <td>2055</td>\n",
       "      <td>0.874</td>\n",
       "    </tr>\n",
       "    <tr>\n",
       "      <th>3</th>\n",
       "      <td>5</td>\n",
       "      <td>1967</td>\n",
       "      <td>0.836</td>\n",
       "    </tr>\n",
       "    <tr>\n",
       "      <th>4</th>\n",
       "      <td>6</td>\n",
       "      <td>1863</td>\n",
       "      <td>0.792</td>\n",
       "    </tr>\n",
       "    <tr>\n",
       "      <th>5</th>\n",
       "      <td>7</td>\n",
       "      <td>1778</td>\n",
       "      <td>0.756</td>\n",
       "    </tr>\n",
       "    <tr>\n",
       "      <th>6</th>\n",
       "      <td>8</td>\n",
       "      <td>1739</td>\n",
       "      <td>0.739</td>\n",
       "    </tr>\n",
       "    <tr>\n",
       "      <th>7</th>\n",
       "      <td>9</td>\n",
       "      <td>1701</td>\n",
       "      <td>0.723</td>\n",
       "    </tr>\n",
       "    <tr>\n",
       "      <th>8</th>\n",
       "      <td>10</td>\n",
       "      <td>1598</td>\n",
       "      <td>0.679</td>\n",
       "    </tr>\n",
       "  </tbody>\n",
       "</table>\n",
       "</div>"
      ],
      "text/plain": [
       "   bins  Correct Count  Accuracy\n",
       "0     2           2277     0.968\n",
       "1     3           2173     0.924\n",
       "2     4           2055     0.874\n",
       "3     5           1967     0.836\n",
       "4     6           1863     0.792\n",
       "5     7           1778     0.756\n",
       "6     8           1739     0.739\n",
       "7     9           1701     0.723\n",
       "8    10           1598     0.679"
      ]
     },
     "execution_count": 22,
     "metadata": {},
     "output_type": "execute_result"
    }
   ],
   "source": [
    "from sklearn.ensemble import RandomForestClassifier\n",
    "tmp_bins = []\n",
    "\n",
    "for i in range(2,11):\n",
    "    y_bin = pd.cut(y,i, labels=False)\n",
    "    X2 = X.copy()\n",
    "    X2_train, X2_test, y_train_bin, y_test_bin = train_test_split(X2, y_bin, test_size=0.20, random_state=1)\n",
    "    rfc = RandomForestClassifier(n_estimators=25, random_state=1)\n",
    "    rfc.fit(X2_train, y_train_bin)\n",
    "    y2_pred = rfc.predict(X2_test)\n",
    "    \n",
    "    correct_count = (y2_pred == y_test_bin).sum()\n",
    "    accuracy = round((correct_count / y2_pred.shape[0]),3)\n",
    "    \n",
    "    tmp_bins.append([i, correct_count, accuracy])\n",
    "    \n",
    "\n",
    "binns = pd.DataFrame(tmp_bins, columns = [\"bins\", \"Correct Count\", \"Accuracy\"])\n",
    "binns\n",
    "\n"
   ]
  },
  {
   "cell_type": "markdown",
   "metadata": {},
   "source": [
    "# Kaggle submission"
   ]
  },
  {
   "cell_type": "code",
   "execution_count": 18,
   "metadata": {},
   "outputs": [],
   "source": [
    "#Training on complete dataset\n",
    "\n",
    "pipe_rf = make_pipeline(StandardScaler(),\n",
    "                        RandomForestRegressor(n_estimators=1000, criterion='squared_error',\n",
    "                                              random_state=1))\n",
    "pipe_rf.fit(X,y)\n",
    "\n",
    "y_pred = pipe_rf.predict(X_tst)\n",
    "\n",
    "pred_df = pd.DataFrame(y_pred, columns=(['Rental bikes count']))\n",
    "pred_df = pred_df.reset_index()\n",
    "pred_df.columns = ['idx','Rental bikes count']\n",
    "pred_df.to_csv(\"Submission.csv\", index = False)\n",
    "\n",
    "#Public Score: 0.9311"
   ]
  }
 ],
 "metadata": {
  "interpreter": {
   "hash": "3d597f4c481aa0f25dceb95d2a0067e73c0966dcbd003d741d821a7208527ecf"
  },
  "kernelspec": {
   "display_name": "Python 3 (ipykernel)",
   "language": "python",
   "name": "python3"
  },
  "language_info": {
   "codemirror_mode": {
    "name": "ipython",
    "version": 3
   },
   "file_extension": ".py",
   "mimetype": "text/x-python",
   "name": "python",
   "nbconvert_exporter": "python",
   "pygments_lexer": "ipython3",
   "version": "3.9.7"
  },
  "varInspector": {
   "cols": {
    "lenName": 16,
    "lenType": 16,
    "lenVar": 40
   },
   "kernels_config": {
    "python": {
     "delete_cmd_postfix": "",
     "delete_cmd_prefix": "del ",
     "library": "var_list.py",
     "varRefreshCmd": "print(var_dic_list())"
    },
    "r": {
     "delete_cmd_postfix": ") ",
     "delete_cmd_prefix": "rm(",
     "library": "var_list.r",
     "varRefreshCmd": "cat(var_dic_list()) "
    }
   },
   "types_to_exclude": [
    "module",
    "function",
    "builtin_function_or_method",
    "instance",
    "_Feature"
   ],
   "window_display": false
  }
 },
 "nbformat": 4,
 "nbformat_minor": 2
}
